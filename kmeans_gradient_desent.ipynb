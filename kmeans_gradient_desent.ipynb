{
  "nbformat": 4,
  "nbformat_minor": 0,
  "metadata": {
    "colab": {
      "name": "Kmeans Gradient desent.ipynb",
      "provenance": []
    },
    "kernelspec": {
      "name": "python3",
      "display_name": "Python 3"
    },
    "language_info": {
      "name": "python"
    }
  },
  "cells": [
    {
      "cell_type": "code",
      "metadata": {
        "id": "AJVXJvcjFB5X"
      },
      "source": [
        "import torch\n",
        "\n",
        "import matplotlib.pyplot as plt\n",
        "%matplotlib inline"
      ],
      "execution_count": 1,
      "outputs": []
    },
    {
      "cell_type": "code",
      "metadata": {
        "colab": {
          "base_uri": "https://localhost:8080/"
        },
        "id": "3Zkuo5oKFVW7",
        "outputId": "bfdbe332-758f-46ea-d393-6025b89f1e31"
      },
      "source": [
        "data = torch.linspace(-3, 5, 50).float()\n",
        "\n",
        "def function(x):\n",
        "  return (x - 4)**2\n",
        "\n",
        "\n",
        "var = torch.autograd.Variable(torch.tensor(0.), requires_grad=True)\n",
        "optimizer = torch.optim.Adam([var], lr=1e-1)\n",
        "\n",
        "for _ in range(100):\n",
        "  optimizer.zero_grad()\n",
        "  loss = function(var)\n",
        "  loss.backward()\n",
        "  optimizer.step()\n",
        "\n",
        "var"
      ],
      "execution_count": 2,
      "outputs": [
        {
          "output_type": "execute_result",
          "data": {
            "text/plain": [
              "tensor(4.0214, requires_grad=True)"
            ]
          },
          "metadata": {},
          "execution_count": 2
        }
      ]
    },
    {
      "cell_type": "code",
      "metadata": {
        "colab": {
          "base_uri": "https://localhost:8080/",
          "height": 567
        },
        "id": "QWDqyIEkFJae",
        "outputId": "f1c85bea-f289-4001-d652-354a4e0b931e"
      },
      "source": [
        "def tensor_inertia(dots, centers, start):\n",
        "  n_dots = dots.shape[0]\n",
        "  n_centers = centers.shape[0]\n",
        "  n_dim = dots.shape[1]\n",
        "\n",
        "  dots = dots.unsqueeze(1).repeat(1, n_centers, 1)\n",
        "  centers = centers.unsqueeze(0).repeat(n_dots, 1, 1)\n",
        "  start = start.unsqueeze(0).repeat(n_dots, n_centers, 1)\n",
        "\n",
        "  dist = torch.sum((dots - centers)**2, dim=2)# + n_dots / torch.sum((centers - start)**2, dim=2)\n",
        "  return dist.min(dim=1)[0].mean()\n",
        "\n",
        "\n",
        "def nearest_center(dot, centers, start):\n",
        "  cmp_dot = dot.repeat(centers.shape[0], 1)\n",
        "  cmp_start = start.repeat(centers.shape[0], 1)\n",
        "  centers_from_dot = torch.sum((centers - cmp_dot)**2, dim=1)\n",
        "  centers_from_dot = centers_from_dot / centers_from_dot.max()\n",
        "  centers_from_start = torch.sum((centers - cmp_start)**2, dim=1)\n",
        "  centers_from_start = centers_from_start / centers_from_start.max()\n",
        "  return torch.argmin(centers_from_dot + 0.5 * centers_from_start)\n",
        "\n",
        "\n",
        "start_point = torch.tensor([[0., 0.]])\n",
        "dots = torch.randint(low=0, high=10, size=(150, 2)).float()\n",
        "\n",
        "# centers = torch.tensor([[5.1, 5.1],\n",
        "#                         [4.9, 4.9],\n",
        "#                         [5., 5.]]).float()\n",
        "\n",
        "centers = torch.randint(low=0, high=10, size=(3,2,)).float()\n",
        "\n",
        "start_centers = centers.clone()\n",
        "\n",
        "centers = torch.autograd.Variable(centers, requires_grad=True)\n",
        "optimizer = torch.optim.Adam([centers], lr=1e-2)\n",
        "\n",
        "for i in range(2500):\n",
        "  optimizer.zero_grad()\n",
        "  loss = tensor_inertia(dots, centers, start_point)\n",
        "  loss.backward()\n",
        "  optimizer.step()\n",
        "  if i % 500 == 0:\n",
        "    print(centers)\n",
        "\n",
        "\n",
        "test_centers = centers.detach()\n",
        "print(test_centers)\n",
        "labels = [nearest_center(dot.unsqueeze(0), test_centers, start_point).item() for dot in dots]\n",
        "\n",
        "plt_centers = test_centers.numpy()\n",
        "\n",
        "plt.scatter(dots[:, 0], dots[:, 1], c=labels)\n",
        "plt.scatter(start_centers[:, 0], start_centers[:, 1], s=100)\n",
        "plt.scatter(plt_centers[:, 0], plt_centers[:, 1], s=150)\n",
        "plt.show()"
      ],
      "execution_count": 3,
      "outputs": [
        {
          "output_type": "stream",
          "name": "stdout",
          "text": [
            "tensor([[3.9900, 5.9900],\n",
            "        [6.0100, 6.9900],\n",
            "        [7.0100, 8.9900]], requires_grad=True)\n",
            "tensor([[1.7025, 3.6154],\n",
            "        [7.2656, 3.3694],\n",
            "        [4.7963, 8.2684]], requires_grad=True)\n",
            "tensor([[1.7454, 2.4987],\n",
            "        [7.2692, 3.1172],\n",
            "        [4.2000, 7.9818]], requires_grad=True)\n",
            "tensor([[1.7442, 2.4884],\n",
            "        [7.2692, 3.1154],\n",
            "        [4.2000, 7.9818]], requires_grad=True)\n",
            "tensor([[1.7442, 2.4884],\n",
            "        [7.2692, 3.1154],\n",
            "        [4.2000, 7.9818]], requires_grad=True)\n",
            "tensor([[1.7442, 2.4884],\n",
            "        [7.2692, 3.1154],\n",
            "        [4.2000, 7.9818]])\n"
          ]
        },
        {
          "output_type": "display_data",
          "data": {
            "image/png": "[encoded data removed]",
            "text/plain": [
              "<Figure size 432x288 with 1 Axes>"
            ]
          },
          "metadata": {
            "needs_background": "light"
          }
        }
      ]
    },
    {
      "cell_type": "code",
      "metadata": {
        "id": "5BTaEXeXj9qr"
      },
      "source": [
        ""
      ],
      "execution_count": 3,
      "outputs": []
    }
  ]
}